{
  "nbformat": 4,
  "nbformat_minor": 0,
  "metadata": {
    "colab": {
      "provenance": []
    },
    "kernelspec": {
      "name": "python3",
      "display_name": "Python 3"
    },
    "language_info": {
      "name": "python"
    }
  },
  "cells": [
    {
      "cell_type": "code",
      "execution_count": 8,
      "metadata": {
        "id": "H4MkiHGYpVrz"
      },
      "outputs": [],
      "source": [
        "import numpy as np"
      ]
    },
    {
      "cell_type": "code",
      "source": [
        "# 1. Initialize an empty array with size 2X2\n",
        "empty_array = np.empty((2, 2))\n",
        "print(\"Empty array (2x2):\\n\", empty_array)"
      ],
      "metadata": {
        "colab": {
          "base_uri": "https://localhost:8080/"
        },
        "id": "oNUAOyeqvw1Z",
        "outputId": "03f4ad00-6a8f-4e44-fbb0-67f70fda4cf1"
      },
      "execution_count": 9,
      "outputs": [
        {
          "output_type": "stream",
          "name": "stdout",
          "text": [
            "Empty array (2x2):\n",
            " [[4.82923755e-310 0.00000000e+000]\n",
            " [9.04115220e+271 1.02124020e+277]]\n"
          ]
        }
      ]
    },
    {
      "cell_type": "code",
      "source": [
        "# 2. Initialize an all one array with size 4X2\n",
        "ones_array = np.ones((4, 2))\n",
        "print(\"All ones array (4x2):\\n\", ones_array)"
      ],
      "metadata": {
        "colab": {
          "base_uri": "https://localhost:8080/"
        },
        "id": "zDve3jmdvwsG",
        "outputId": "c5fc4178-5424-4900-9b65-27d3007cb17d"
      },
      "execution_count": 10,
      "outputs": [
        {
          "output_type": "stream",
          "name": "stdout",
          "text": [
            "All ones array (4x2):\n",
            " [[1. 1.]\n",
            " [1. 1.]\n",
            " [1. 1.]\n",
            " [1. 1.]]\n"
          ]
        }
      ]
    },
    {
      "cell_type": "code",
      "source": [
        "# 3. Return a new array of given shape and type, filled with fill value\n",
        "fill_value = 7\n",
        "filled_array = np.full((3, 3), fill_value)\n",
        "print(\"Array filled with value 7 (3x3):\\n\", filled_array)"
      ],
      "metadata": {
        "colab": {
          "base_uri": "https://localhost:8080/"
        },
        "id": "jAkJ9HWZvwfW",
        "outputId": "a72f31b9-4901-43df-a886-c759779933f8"
      },
      "execution_count": 11,
      "outputs": [
        {
          "output_type": "stream",
          "name": "stdout",
          "text": [
            "Array filled with value 7 (3x3):\n",
            " [[7 7 7]\n",
            " [7 7 7]\n",
            " [7 7 7]]\n"
          ]
        }
      ]
    },
    {
      "cell_type": "code",
      "source": [
        "# 4. Return a new array of zeros with same shape and type as a given array\n",
        "given_array = np.array([[1, 2, 3], [4, 5, 6]])\n",
        "zeros_like_array = np.zeros_like(given_array)\n",
        "print(\"Zeros array with same shape as given array:\\n\", zeros_like_array)\n"
      ],
      "metadata": {
        "colab": {
          "base_uri": "https://localhost:8080/"
        },
        "id": "DP4RA5qrvwUy",
        "outputId": "ff91d3c4-2d17-4386-af65-36c11cbbcfc6"
      },
      "execution_count": 12,
      "outputs": [
        {
          "output_type": "stream",
          "name": "stdout",
          "text": [
            "Zeros array with same shape as given array:\n",
            " [[0 0 0]\n",
            " [0 0 0]]\n"
          ]
        }
      ]
    },
    {
      "cell_type": "code",
      "source": [
        "# 5. Return a new array of ones with same shape and type as a given array\n",
        "ones_like_array = np.ones_like(given_array)\n",
        "print(\"Ones array with same shape as given array:\\n\", ones_like_array)"
      ],
      "metadata": {
        "colab": {
          "base_uri": "https://localhost:8080/"
        },
        "id": "nps_11yvvwED",
        "outputId": "f32b0bf7-768d-4431-bf0c-739799922321"
      },
      "execution_count": null,
      "outputs": [
        {
          "output_type": "stream",
          "name": "stdout",
          "text": [
            "Ones array with same shape as given array:\n",
            " [[1 1 1]\n",
            " [1 1 1]]\n"
          ]
        }
      ]
    },
    {
      "cell_type": "code",
      "source": [
        "# 6. Convert an existing list to a numpy array\n",
        "new_list = [1, 2, 3, 4]\n",
        "numpy_array = np.array(new_list)\n",
        "print(\"Numpy array from list:\\n\", numpy_array)"
      ],
      "metadata": {
        "colab": {
          "base_uri": "https://localhost:8080/"
        },
        "id": "9oDX-JIDvvU7",
        "outputId": "9e1f69b9-5316-4af8-e93c-4a787519650d"
      },
      "execution_count": null,
      "outputs": [
        {
          "output_type": "stream",
          "name": "stdout",
          "text": [
            "Numpy array from list:\n",
            " [1 2 3 4]\n"
          ]
        }
      ]
    },
    {
      "cell_type": "code",
      "source": [
        "# 1. Create an array with values ranging from 10 to 49\n",
        "array_10_to_49 = np.arange(10, 50)\n",
        "print(\"Array with values from 10 to 49:\\n\", array_10_to_49)\n"
      ],
      "metadata": {
        "colab": {
          "base_uri": "https://localhost:8080/"
        },
        "id": "XC9o-NHuwUR_",
        "outputId": "e2eb95fb-512e-4779-b2f1-3d3ffe7b645b"
      },
      "execution_count": null,
      "outputs": [
        {
          "output_type": "stream",
          "name": "stdout",
          "text": [
            "Array with values from 10 to 49:\n",
            " [10 11 12 13 14 15 16 17 18 19 20 21 22 23 24 25 26 27 28 29 30 31 32 33\n",
            " 34 35 36 37 38 39 40 41 42 43 44 45 46 47 48 49]\n"
          ]
        }
      ]
    },
    {
      "cell_type": "code",
      "source": [
        "# 2. Create a 3X3 matrix with values ranging from 0 to 8\n",
        "matrix_0_to_8 = np.arange(9).reshape(3, 3)\n",
        "print(\"3x3 matrix with values from 0 to 8:\\n\", matrix_0_to_8)"
      ],
      "metadata": {
        "colab": {
          "base_uri": "https://localhost:8080/"
        },
        "id": "9uuPVm_qwUIh",
        "outputId": "9ad1df8c-7bac-4c8b-8b0e-884262549224"
      },
      "execution_count": null,
      "outputs": [
        {
          "output_type": "stream",
          "name": "stdout",
          "text": [
            "3x3 matrix with values from 0 to 8:\n",
            " [[0 1 2]\n",
            " [3 4 5]\n",
            " [6 7 8]]\n"
          ]
        }
      ]
    },
    {
      "cell_type": "code",
      "source": [
        "# 3. Create a 3X3 identity matrix\n",
        "identity_matrix = np.eye(3)\n",
        "print(\"3x3 identity matrix:\\n\", identity_matrix)\n"
      ],
      "metadata": {
        "colab": {
          "base_uri": "https://localhost:8080/"
        },
        "id": "m00jZjL8wT-2",
        "outputId": "a3dc6488-d56e-428a-822d-44481577e538"
      },
      "execution_count": null,
      "outputs": [
        {
          "output_type": "stream",
          "name": "stdout",
          "text": [
            "3x3 identity matrix:\n",
            " [[1. 0. 0.]\n",
            " [0. 1. 0.]\n",
            " [0. 0. 1.]]\n"
          ]
        }
      ]
    },
    {
      "cell_type": "code",
      "source": [
        "# 4. Create a random array of size 30 and find the mean of the array\n",
        "random_array = np.random.random(30)\n",
        "mean_value = random_array.mean()\n",
        "print(\"Random array of size 30:\\n\", random_array)\n",
        "print(\"Mean of the random array:\\n\", mean_value)"
      ],
      "metadata": {
        "colab": {
          "base_uri": "https://localhost:8080/"
        },
        "id": "f29v3ZdtwT0i",
        "outputId": "19d53476-27aa-4e9a-8769-9db99424f648"
      },
      "execution_count": 13,
      "outputs": [
        {
          "output_type": "stream",
          "name": "stdout",
          "text": [
            "Random array of size 30:\n",
            " [0.82757481 0.52834092 0.48706618 0.49774071 0.0791337  0.8041691\n",
            " 0.55029076 0.94783018 0.58009901 0.63031834 0.40808264 0.82617309\n",
            " 0.29525761 0.18881406 0.02909684 0.14931149 0.69087973 0.1352278\n",
            " 0.18916322 0.27104093 0.06617442 0.89253128 0.70727565 0.3241676\n",
            " 0.76852913 0.17685061 0.25612265 0.03700534 0.37767196 0.41933879]\n",
            "Mean of the random array:\n",
            " 0.4380426192453805\n"
          ]
        }
      ]
    },
    {
      "cell_type": "code",
      "source": [
        "# 5. Create a 10X10 array with random values and find the minimum and maximum values\n",
        "random_10x10 = np.random.random((10, 10))\n",
        "min_value = random_10x10.min()\n",
        "max_value = random_10x10.max()\n",
        "print(\"10x10 array with random values:\\n\", random_10x10)\n",
        "print(\"Minimum value:\\n\", min_value)\n",
        "print(\"Maximum value:\\n\", max_value)\n"
      ],
      "metadata": {
        "colab": {
          "base_uri": "https://localhost:8080/"
        },
        "id": "pOgAkWyHwTpF",
        "outputId": "e99e560a-daee-499c-b8c2-56efe22ad31a"
      },
      "execution_count": 14,
      "outputs": [
        {
          "output_type": "stream",
          "name": "stdout",
          "text": [
            "10x10 array with random values:\n",
            " [[0.26175639 0.79196637 0.24015603 0.77184107 0.60351584 0.70034679\n",
            "  0.06161668 0.75162227 0.278049   0.32575351]\n",
            " [0.84589888 0.92570291 0.70907047 0.85570576 0.38300792 0.87930747\n",
            "  0.72844713 0.01925585 0.62414698 0.7795899 ]\n",
            " [0.07709884 0.12965101 0.81848742 0.63997656 0.57253001 0.21755294\n",
            "  0.55019098 0.37804433 0.45212821 0.9799857 ]\n",
            " [0.59913771 0.51896156 0.55765788 0.25991134 0.95136962 0.94692744\n",
            "  0.93759123 0.29017553 0.5358533  0.46750418]\n",
            " [0.01566359 0.13523828 0.43307583 0.01094401 0.29888854 0.05247918\n",
            "  0.7137632  0.92933636 0.69206055 0.25261441]\n",
            " [0.11326049 0.06794504 0.58576701 0.9644189  0.06363047 0.52717647\n",
            "  0.54226726 0.17613304 0.86650308 0.54580305]\n",
            " [0.27459766 0.11432968 0.75506696 0.99840937 0.96723689 0.5094635\n",
            "  0.03208981 0.83820837 0.35396507 0.50942485]\n",
            " [0.52230511 0.86353957 0.48740905 0.45951515 0.55582716 0.58265166\n",
            "  0.61696692 0.97512415 0.41895867 0.00757769]\n",
            " [0.77668267 0.01862972 0.08034111 0.08962401 0.55652    0.66742245\n",
            "  0.03591173 0.37587822 0.60862006 0.23731699]\n",
            " [0.71049526 0.10685234 0.14025145 0.20664209 0.64250053 0.68540441\n",
            "  0.45227721 0.57164633 0.78226222 0.67046711]]\n",
            "Minimum value:\n",
            " 0.007577692864282226\n",
            "Maximum value:\n",
            " 0.9984093668588313\n"
          ]
        }
      ]
    },
    {
      "cell_type": "code",
      "source": [
        "# 6. Create a zero array of size 10 and replace 5th element with 1\n",
        "zero_array = np.zeros(10)\n",
        "zero_array[4] = 1\n",
        "print(\"Zero array with 5th element replaced by 1:\\n\", zero_array)\n"
      ],
      "metadata": {
        "colab": {
          "base_uri": "https://localhost:8080/"
        },
        "id": "_XVDHKknwTeG",
        "outputId": "b8243af9-de5d-4d1e-b8da-01fc5f4e33a7"
      },
      "execution_count": null,
      "outputs": [
        {
          "output_type": "stream",
          "name": "stdout",
          "text": [
            "Zero array with 5th element replaced by 1:\n",
            " [0. 0. 0. 0. 1. 0. 0. 0. 0. 0.]\n"
          ]
        }
      ]
    },
    {
      "cell_type": "code",
      "source": [
        "# 7. Reverse an array arr = [1,2,0,0,4,0]\n",
        "arr = [1, 2, 0, 0, 4, 0]\n",
        "reversed_arr = arr[::-1]\n",
        "print(\"Reversed array:\\n\", reversed_arr)\n"
      ],
      "metadata": {
        "colab": {
          "base_uri": "https://localhost:8080/"
        },
        "id": "n_GnXEdCwTSA",
        "outputId": "57786500-fd35-4821-88b1-00555fc043a9"
      },
      "execution_count": null,
      "outputs": [
        {
          "output_type": "stream",
          "name": "stdout",
          "text": [
            "Reversed array:\n",
            " [0, 4, 0, 0, 2, 1]\n"
          ]
        }
      ]
    },
    {
      "cell_type": "code",
      "source": [
        "# 8. Create a 2d array with 1 on border and 0 inside\n",
        "border_array = np.ones((5, 5))\n",
        "border_array[1:-1, 1:-1] = 0\n",
        "print(\"2D array with 1 on border and 0 inside:\\n\", border_array)\n"
      ],
      "metadata": {
        "colab": {
          "base_uri": "https://localhost:8080/"
        },
        "id": "f73ksJWHwTF1",
        "outputId": "a4217288-b51c-461a-cb56-0861a97ad910"
      },
      "execution_count": null,
      "outputs": [
        {
          "output_type": "stream",
          "name": "stdout",
          "text": [
            "2D array with 1 on border and 0 inside:\n",
            " [[1. 1. 1. 1. 1.]\n",
            " [1. 0. 0. 0. 1.]\n",
            " [1. 0. 0. 0. 1.]\n",
            " [1. 0. 0. 0. 1.]\n",
            " [1. 1. 1. 1. 1.]]\n"
          ]
        }
      ]
    },
    {
      "cell_type": "code",
      "source": [
        "# 9. Create a 8X8 matrix and fill it with a checkerboard pattern\n",
        "checkerboard = np.zeros((8, 8), dtype=int)\n",
        "checkerboard[1::2, ::2] = 1\n",
        "checkerboard[::2, 1::2] = 1\n",
        "print(\"8x8 checkerboard pattern:\\n\", checkerboard)\n"
      ],
      "metadata": {
        "colab": {
          "base_uri": "https://localhost:8080/"
        },
        "id": "k5YiPODWwS6X",
        "outputId": "5fe508a4-7037-45cf-a291-8232069208a7"
      },
      "execution_count": null,
      "outputs": [
        {
          "output_type": "stream",
          "name": "stdout",
          "text": [
            "8x8 checkerboard pattern:\n",
            " [[0 1 0 1 0 1 0 1]\n",
            " [1 0 1 0 1 0 1 0]\n",
            " [0 1 0 1 0 1 0 1]\n",
            " [1 0 1 0 1 0 1 0]\n",
            " [0 1 0 1 0 1 0 1]\n",
            " [1 0 1 0 1 0 1 0]\n",
            " [0 1 0 1 0 1 0 1]\n",
            " [1 0 1 0 1 0 1 0]]\n"
          ]
        }
      ]
    },
    {
      "cell_type": "code",
      "source": [
        "# Define the arrays\n",
        "x = np.array([[1, 2], [3, 5]])\n",
        "y = np.array([[5, 6], [7, 8]])\n",
        "v = np.array([9, 10])\n",
        "w = np.array([11, 12])\n",
        "\n",
        "# 1. Add the two arrays\n",
        "add_xy = x + y\n",
        "print(\"Addition of x and y:\\n\", add_xy)"
      ],
      "metadata": {
        "colab": {
          "base_uri": "https://localhost:8080/"
        },
        "id": "0g3qAmm7xNrR",
        "outputId": "7cf415f1-e4d1-45d1-efba-0351df50948e"
      },
      "execution_count": null,
      "outputs": [
        {
          "output_type": "stream",
          "name": "stdout",
          "text": [
            "Addition of x and y:\n",
            " [[ 6  8]\n",
            " [10 13]]\n",
            "Subtraction of x and y:\n",
            " [[-4 -4]\n",
            " [-4 -3]]\n",
            "Multiplication of x with 2:\n",
            " [[ 2  4]\n",
            " [ 6 10]]\n",
            "Square of each element in x:\n",
            " [[ 1  4]\n",
            " [ 9 25]]\n",
            "Dot product of v and w:\n",
            " 219\n",
            "Dot product of x and v:\n",
            " [29 77]\n",
            "Dot product of x and y:\n",
            " [[19 22]\n",
            " [50 58]]\n",
            "Concatenation of x and y along row:\n",
            " [[1 2]\n",
            " [3 5]\n",
            " [5 6]\n",
            " [7 8]]\n",
            "Concatenation of v and w along column:\n",
            " [[ 9 10]\n",
            " [11 12]]\n",
            "Error in concatenating x and v: all the input arrays must have same number of dimensions, but the array at index 0 has 2 dimension(s) and the array at index 1 has 1 dimension(s)\n"
          ]
        }
      ]
    },
    {
      "cell_type": "code",
      "source": [
        "# 2. Subtract the two arrays\n",
        "subtract_xy = x - y\n",
        "print(\"Subtraction of x and y:\\n\", subtract_xy)"
      ],
      "metadata": {
        "colab": {
          "base_uri": "https://localhost:8080/"
        },
        "id": "fXAcGBnSxhhd",
        "outputId": "457736a9-3f43-4249-d657-383271874dd3"
      },
      "execution_count": null,
      "outputs": [
        {
          "output_type": "stream",
          "name": "stdout",
          "text": [
            "Subtraction of x and y:\n",
            " [[-4 -4]\n",
            " [-4 -3]]\n"
          ]
        }
      ]
    },
    {
      "cell_type": "code",
      "source": [
        "# 3. Multiply the array with any integers of your choice\n",
        "multiply_x = x * 2\n",
        "print(\"Multiplication of x with 2:\\n\", multiply_x)\n"
      ],
      "metadata": {
        "colab": {
          "base_uri": "https://localhost:8080/"
        },
        "id": "96MbfJssxw7L",
        "outputId": "d976160f-9664-4588-bf48-6056cb6b2e32"
      },
      "execution_count": null,
      "outputs": [
        {
          "output_type": "stream",
          "name": "stdout",
          "text": [
            "Multiplication of x with 2:\n",
            " [[ 2  4]\n",
            " [ 6 10]]\n"
          ]
        }
      ]
    },
    {
      "cell_type": "code",
      "source": [
        "# 4. Find the square of each element of the array\n",
        "square_x = np.square(x)\n",
        "print(\"Square of each element in x:\\n\", square_x)\n"
      ],
      "metadata": {
        "colab": {
          "base_uri": "https://localhost:8080/"
        },
        "id": "_PompRJAx4ut",
        "outputId": "bb5e7ab9-eb19-4860-9b18-f48efa7e027d"
      },
      "execution_count": null,
      "outputs": [
        {
          "output_type": "stream",
          "name": "stdout",
          "text": [
            "Square of each element in x:\n",
            " [[ 1  4]\n",
            " [ 9 25]]\n"
          ]
        }
      ]
    },
    {
      "cell_type": "code",
      "source": [
        "# 5. Find the dot product between: v and w; x and v; x and y\n",
        "dot_vw = np.dot(v, w)\n",
        "dot_xv = np.dot(x, v)\n",
        "dot_xy = np.dot(x, y)\n",
        "print(\"Dot product of v and w:\\n\", dot_vw)\n",
        "print(\"Dot product of x and v:\\n\", dot_xv)\n",
        "print(\"Dot product of x and y:\\n\", dot_xy)"
      ],
      "metadata": {
        "colab": {
          "base_uri": "https://localhost:8080/"
        },
        "id": "CLLMv87Qx4yy",
        "outputId": "0876a4bd-7d9a-4809-e3b9-90685885e48a"
      },
      "execution_count": null,
      "outputs": [
        {
          "output_type": "stream",
          "name": "stdout",
          "text": [
            "Dot product of v and w:\n",
            " 219\n",
            "Dot product of x and v:\n",
            " [29 77]\n",
            "Dot product of x and y:\n",
            " [[19 22]\n",
            " [50 58]]\n"
          ]
        }
      ]
    },
    {
      "cell_type": "code",
      "source": [
        "# 6. Concatenate x and y along row and Concatenate v and w along column\n",
        "concat_xy_row = np.concatenate((x, y), axis=0)\n",
        "concat_vw_col = np.vstack((v, w))\n",
        "print(\"Concatenation of x and y along row:\\n\", concat_xy_row)\n",
        "print(\"Concatenation of v and w along column:\\n\", concat_vw_col)\n"
      ],
      "metadata": {
        "colab": {
          "base_uri": "https://localhost:8080/"
        },
        "id": "w8uKAoYZx5AO",
        "outputId": "5d3b552f-d648-413b-dda0-d3c2dae61c05"
      },
      "execution_count": null,
      "outputs": [
        {
          "output_type": "stream",
          "name": "stdout",
          "text": [
            "Concatenation of x and y along row:\n",
            " [[1 2]\n",
            " [3 5]\n",
            " [5 6]\n",
            " [7 8]]\n",
            "Concatenation of v and w along column:\n",
            " [[ 9 10]\n",
            " [11 12]]\n"
          ]
        }
      ]
    },
    {
      "cell_type": "code",
      "source": [
        "# 7. Concatenate x and v; if you get an error, observe and explain why did you get the error?\n",
        "try:\n",
        "    concat_xv = np.concatenate((x, v), axis=0)\n",
        "    print(\"Concatenation of x and v:\\n\", concat_xv)\n",
        "except ValueError as e:\n",
        "    print(\"Error in concatenating x and v:\", e)"
      ],
      "metadata": {
        "colab": {
          "base_uri": "https://localhost:8080/"
        },
        "id": "0t_iIBkCx5GB",
        "outputId": "82220143-96c6-4945-83d4-aab3be665239"
      },
      "execution_count": null,
      "outputs": [
        {
          "output_type": "stream",
          "name": "stdout",
          "text": [
            "Error in concatenating x and v: all the input arrays must have same number of dimensions, but the array at index 0 has 2 dimension(s) and the array at index 1 has 1 dimension(s)\n"
          ]
        }
      ]
    },
    {
      "cell_type": "code",
      "source": [
        "\n",
        "A = np.array([[3, 4], [7, 8]])\n",
        "A_inv = np.linalg.inv(A)\n",
        "identity_matrix = np.dot(A, A_inv)\n",
        "print(\"A * A^-1:\\n\", identity_matrix)\n"
      ],
      "metadata": {
        "colab": {
          "base_uri": "https://localhost:8080/"
        },
        "id": "E9NdWmzu0Y1_",
        "outputId": "9b41afe7-0150-4db7-c4da-a2d2cb8d99a1"
      },
      "execution_count": 16,
      "outputs": [
        {
          "output_type": "stream",
          "name": "stdout",
          "text": [
            "A * A^-1:\n",
            " [[1.00000000e+00 0.00000000e+00]\n",
            " [1.77635684e-15 1.00000000e+00]]\n"
          ]
        }
      ]
    },
    {
      "cell_type": "code",
      "source": [
        "B = np.array([[5, 3], [2, 1]])\n",
        "AB = np.dot(A, B)\n",
        "BA = np.dot(B, A)\n",
        "print(\"AB:\\n\", AB)\n",
        "print(\"BA:\\n\", BA)\n"
      ],
      "metadata": {
        "colab": {
          "base_uri": "https://localhost:8080/"
        },
        "id": "LsHRt5G72zuz",
        "outputId": "fdb85557-fd75-464c-fe7c-417c13504998"
      },
      "execution_count": 17,
      "outputs": [
        {
          "output_type": "stream",
          "name": "stdout",
          "text": [
            "AB:\n",
            " [[23 13]\n",
            " [51 29]]\n",
            "BA:\n",
            " [[36 44]\n",
            " [13 16]]\n"
          ]
        }
      ]
    },
    {
      "cell_type": "code",
      "source": [
        "AB_transpose = np.transpose(AB)\n",
        "B_transpose = np.transpose(B)\n",
        "A_transpose = np.transpose(A)\n",
        "BT_AT = np.dot(B_transpose, A_transpose)\n",
        "print(\"(AB)^T:\\n\", AB_transpose)\n",
        "print(\"B^T * A^T:\\n\", BT_AT)"
      ],
      "metadata": {
        "colab": {
          "base_uri": "https://localhost:8080/"
        },
        "id": "bS1W-Cs324cy",
        "outputId": "1eaec858-5255-40b4-d406-be90f35eefe5"
      },
      "execution_count": 18,
      "outputs": [
        {
          "output_type": "stream",
          "name": "stdout",
          "text": [
            "(AB)^T:\n",
            " [[23 51]\n",
            " [13 29]]\n",
            "B^T * A^T:\n",
            " [[23 51]\n",
            " [13 29]]\n"
          ]
        }
      ]
    }
  ]
}